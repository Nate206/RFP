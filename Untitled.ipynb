{
 "cells": [
  {
   "cell_type": "code",
   "execution_count": 10,
   "id": "b9adb75e",
   "metadata": {},
   "outputs": [],
   "source": [
    "import pandas as pd\n",
    "import warnings\n",
    "warnings.filterwarnings(\"ignore\", category=FutureWarning)\n",
    "ad_details = pd.read_csv(\"ad_details.csv\")\n",
    "ad_events = pd.read_csv(\"ad_events.csv\")\n",
    "customer_profiles = pd.read_csv(\"customer_profiles.csv\")"
   ]
  },
  {
   "cell_type": "code",
   "execution_count": 14,
   "id": "b267d6a4",
   "metadata": {},
   "outputs": [
    {
     "data": {
      "text/plain": [
       "(   reward                              channels  required_amount  \\\n",
       " 0      10         ['email', 'mobile', 'social']               10   \n",
       " 1      10  ['web', 'email', 'mobile', 'social']               10   \n",
       " 2       0            ['web', 'email', 'mobile']                0   \n",
       " 3       5            ['web', 'email', 'mobile']                5   \n",
       " 4       5                      ['web', 'email']               20   \n",
       " \n",
       "    duration (days)     offer_type                             ad id  \n",
       " 0                7           bogo  ae264e3637204a6fb9bb56bc8210ddfd  \n",
       " 1                5           bogo  4d5c57ea9a6940dd891ad53e9dbe8da0  \n",
       " 2                4  informational  3f207df678b143eea3cee63160fa8bed  \n",
       " 3                7           bogo  9b98b8c7a33c4b65b9aebfe6a799e6d9  \n",
       " 4               10       discount  0b1e1539f2cc45b7b9fa7c272da2e1d7  ,\n",
       "                            customer           event  \\\n",
       " 0  78afa995795e4d85b5d9ceeca43f5fef  offer received   \n",
       " 1  a03223e636434f42ac4c3df47e8bac43  offer received   \n",
       " 2  e2127556f4f64592b11af22de27a7932  offer received   \n",
       " 3  8ec6ce2a7e7949b1bf142def7d0e0586  offer received   \n",
       " 4  68617ca6246f4fbc85e91a2a49552598  offer received   \n",
       " \n",
       "                                          event_info  time  \n",
       " 0  {'offer id': '9b98b8c7a33c4b65b9aebfe6a799e6d9'}     0  \n",
       " 1  {'offer id': '0b1e1539f2cc45b7b9fa7c272da2e1d7'}     0  \n",
       " 2  {'offer id': '2906b810c7d4411798c6938adc9daaa5'}     0  \n",
       " 3  {'offer id': 'fafdcd668e3743c1bb461111dcafc2a4'}     0  \n",
       " 4  {'offer id': '4d5c57ea9a6940dd891ad53e9dbe8da0'}     0  ,\n",
       "   gender  age                                id  \\\n",
       " 0      F   55  0610b486422d4921ae7d2bf64640c50b   \n",
       " 1      F   75  78afa995795e4d85b5d9ceeca43f5fef   \n",
       " 2      M   68  e2127556f4f64592b11af22de27a7932   \n",
       " 3      M   65  389bc3fa690240e798340f5a15918d5c   \n",
       " 4      M   58  2eeac8d8feae4a8cad5a6af0499a211d   \n",
       " \n",
       "    became_member_on (year month day)    income ever_married  kids  \\\n",
       " 0                           20170715  112000.0           No     3   \n",
       " 1                           20170509  100000.0          Yes     0   \n",
       " 2                           20180426   70000.0          Yes     3   \n",
       " 3                           20180209   53000.0          Yes     5   \n",
       " 4                           20171111   51000.0          Yes     5   \n",
       " \n",
       "      home_state  \n",
       " 0  North Dakota  \n",
       " 1       Florida  \n",
       " 2       Florida  \n",
       " 3      Missouri  \n",
       " 4  South Dakota  )"
      ]
     },
     "execution_count": 14,
     "metadata": {},
     "output_type": "execute_result"
    }
   ],
   "source": [
    "(ad_details.head(), ad_events.head(), customer_profiles.head())"
   ]
  }
 ],
 "metadata": {
  "kernelspec": {
   "display_name": "Python 3 (ipykernel)",
   "language": "python",
   "name": "python3"
  },
  "language_info": {
   "codemirror_mode": {
    "name": "ipython",
    "version": 3
   },
   "file_extension": ".py",
   "mimetype": "text/x-python",
   "name": "python",
   "nbconvert_exporter": "python",
   "pygments_lexer": "ipython3",
   "version": "3.9.13"
  }
 },
 "nbformat": 4,
 "nbformat_minor": 5
}
