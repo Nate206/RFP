{
 "cells": [
  {
   "cell_type": "code",
   "execution_count": null,
   "id": "b9adb75e",
   "metadata": {},
   "outputs": [],
   "source": [
    "import pandas as\n"
   ]
  },
  {
   "cell_type": "code",
   "execution_count": 1,
   "id": "b267d6a4",
   "metadata": {},
   "outputs": [
    {
     "ename": "NameError",
     "evalue": "name 'customer_profiles' is not defined",
     "output_type": "error",
     "traceback": [
      "\u001b[1;31m---------------------------------------------------------------------------\u001b[0m",
      "\u001b[1;31mNameError\u001b[0m                                 Traceback (most recent call last)",
      "\u001b[1;32m~\\AppData\\Local\\Temp\\ipykernel_22188\\1005241135.py\u001b[0m in \u001b[0;36m<module>\u001b[1;34m\u001b[0m\n\u001b[0;32m      4\u001b[0m \u001b[1;33m\u001b[0m\u001b[0m\n\u001b[0;32m      5\u001b[0m \u001b[1;31m# Assuming we have the customer_profiles data loaded, let's filter it for the young adults segment (18-35 years)\u001b[0m\u001b[1;33m\u001b[0m\u001b[1;33m\u001b[0m\u001b[0m\n\u001b[1;32m----> 6\u001b[1;33m \u001b[0myoung_adults\u001b[0m \u001b[1;33m=\u001b[0m \u001b[0mcustomer_profiles\u001b[0m\u001b[1;33m[\u001b[0m\u001b[1;33m(\u001b[0m\u001b[0mcustomer_profiles\u001b[0m\u001b[1;33m[\u001b[0m\u001b[1;34m'age'\u001b[0m\u001b[1;33m]\u001b[0m \u001b[1;33m>=\u001b[0m \u001b[1;36m18\u001b[0m\u001b[1;33m)\u001b[0m \u001b[1;33m&\u001b[0m \u001b[1;33m(\u001b[0m\u001b[0mcustomer_profiles\u001b[0m\u001b[1;33m[\u001b[0m\u001b[1;34m'age'\u001b[0m\u001b[1;33m]\u001b[0m \u001b[1;33m<=\u001b[0m \u001b[1;36m35\u001b[0m\u001b[1;33m)\u001b[0m\u001b[1;33m]\u001b[0m\u001b[1;33m\u001b[0m\u001b[1;33m\u001b[0m\u001b[0m\n\u001b[0m\u001b[0;32m      7\u001b[0m \u001b[1;33m\u001b[0m\u001b[0m\n\u001b[0;32m      8\u001b[0m \u001b[1;31m# For the purpose of clustering, we'll consider features like 'age', 'income', and 'kids' as they might give us insights into different sub-segments within young adults\u001b[0m\u001b[1;33m\u001b[0m\u001b[1;33m\u001b[0m\u001b[0m\n",
      "\u001b[1;31mNameError\u001b[0m: name 'customer_profiles' is not defined"
     ]
    }
   ],
   "source": [
    "from sklearn.cluster import KMeans\n",
    "from sklearn.preprocessing import StandardScaler\n",
    "import numpy as np\n",
    "\n",
    "# Assuming we have the customer_profiles data loaded, let's filter it for the young adults segment (18-35 years)\n",
    "young_adults = customer_profiles[(customer_profiles['age'] >= 18) & (customer_profiles['age'] <= 35)]\n",
    "\n",
    "# For the purpose of clustering, we'll consider features like 'age', 'income', and 'kids' as they might give us insights into different sub-segments within young adults\n",
    "features = young_adults[['age', 'income', 'kids']]\n",
    "\n",
    "# Standardize the features\n",
    "scaler = StandardScaler()\n",
    "features_scaled = scaler.fit_transform(features)\n",
    "\n",
    "# Apply K-Means clustering\n",
    "# Choosing K=3 for demonstration, but this can be optimized using methods like the elbow method\n",
    "kmeans = KMeans(n_clusters=3, random_state=42)\n",
    "young_adults['cluster'] = kmeans.fit_predict(features_scaled)\n",
    "\n",
    "# Check the cluster distribution\n",
    "cluster_distribution = young_adults['cluster'].value_counts()\n",
    "\n",
    "# Calculate the mean values for each cluster to understand their characteristics\n",
    "cluster_means = young_adults.groupby('cluster').mean()\n",
    "\n",
    "(cluster_distribution, cluster_means)"
   ]
  }
 ],
 "metadata": {
  "kernelspec": {
   "display_name": "Python 3 (ipykernel)",
   "language": "python",
   "name": "python3"
  },
  "language_info": {
   "codemirror_mode": {
    "name": "ipython",
    "version": 3
   },
   "file_extension": ".py",
   "mimetype": "text/x-python",
   "name": "python",
   "nbconvert_exporter": "python",
   "pygments_lexer": "ipython3",
   "version": "3.9.13"
  }
 },
 "nbformat": 4,
 "nbformat_minor": 5
}
